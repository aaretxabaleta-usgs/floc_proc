{
 "cells": [
  {
   "cell_type": "code",
   "execution_count": 1,
   "metadata": {
    "collapsed": false
   },
   "outputs": [
    {
     "name": "stdout",
     "output_type": "stream",
     "text": [
      "CRS desktop\n",
      "Opening  http://geoport.whoi.edu/thredds/dodsC/clay/usgs/users/aretxabaleta/MVCO/ocean_his_44.nc\n",
      "Stats filename:  D:/crs/proj/flocs/floc_proc/44_summary.txt\n",
      "Vtransform:  1  Vstretching:  1\n",
      "N  = len(s_rho): 50, Np = len(s_w) : 51\n",
      "hc = 0.000000, theta_s = 1.000000, theta_b = 0.800000\n",
      "\n"
     ]
    }
   ],
   "source": [
    "# plot_flocs.ipynb\n",
    "from pylab import *\n",
    "\n",
    "# identify computer and set path names\n",
    "import os\n",
    "import platform\n",
    "computer_name = platform.uname()[1]\n",
    "if computer_name=='igsagiegwscshl0':\n",
    "    print 'CRS Ubuntu desktop'\n",
    "    src_dir = r\"/home/csherwood-pr/crs/src/\"\n",
    "    proj_dir = r\"/home/csherwood-pr/crs/proj/\"\n",
    "    # case directory\n",
    "    #case_dir = r'os_flocruns/steady_floc/'\n",
    "    #case_dir = r'os_flocruns/wave_tide/'\n",
    "    case_dir = r'os_flocruns/aug_runs/'\n",
    "    #case_dir = r'os_flocruns/tide_floc/'\n",
    "elif computer_name=='IGSAGIEGLTCSH70':\n",
    "    print 'CRS laptop'\n",
    "    src_dir = r\"C:/crs/src/\"\n",
    "    proj_dir = r\"C:/crs/proj/\"\n",
    "    # case directory\n",
    "    case_dir = r'flocs/floc_proc/'\n",
    "elif computer_name=='IGSAGIEGWSCSH70':\n",
    "    print 'CRS desktop'\n",
    "    src_dir = r\"D:/crs/src/\"\n",
    "    proj_dir = r\"D:/crs/proj/\"\n",
    "    # case directory\n",
    "    case_dir = r'flocs/floc_proc/'\n",
    "else :\n",
    "    print \"unknown computer\"\n",
    "\n",
    "########################\n",
    "# run name \n",
    "# maybe plot results from several runs\n",
    "flist = ['44']\n",
    "run_name = flist[0]\n",
    "########################\n",
    "\n",
    "# import local ROMS and CRS packages\n",
    "import sys\n",
    "sys.path.append(src_dir+r'octant/octant')\n",
    "sys.path.append(src_dir+r'py')\n",
    "sys.path.append(src_dir+r'crspy')\n",
    "import depths as dp\n",
    "import crspy as crspy\n",
    "\n",
    "import netCDF4\n",
    "\n",
    "# open netCDF file\n",
    "url=\"http://geoport.whoi.edu/thredds/dodsC/clay/usgs/users/aretxabaleta/MVCO/ocean_his_\"\\\n",
    "+run_name+\".nc\"\n",
    "#url=\"http://geoport.whoi.edu/thredds/dodsC/usgs/data1/aretxabaleta/FLOC/ocean_his_\"\\\n",
    "#+run_name+\".nc\"\n",
    "#url=proj_dir+case_dir+'ocean_his_'+run_name+'.nc'\n",
    "print \"Opening \",url\n",
    "nc = netCDF4.Dataset(url)\n",
    "\n",
    "# open a summary stats file\n",
    "stats_filename = proj_dir+case_dir+run_name+'_summary.txt'\n",
    "print \"Stats filename: \",stats_filename\n",
    "s=\"{0:s}\\n\".format(stats_filename)\n",
    "s=s+\"{0:s}\\n\".format(\"URL: \"+url)\n",
    "with open( stats_filename, \"w\") as afile:\n",
    "    afile.write(s)\n",
    "    \n",
    "# read vertical grid parameters\n",
    "Vtransform = nc.variables['Vtransform'][:]\n",
    "Vstretching = nc.variables['Vstretching'][:]\n",
    "print 'Vtransform: ',Vtransform,' Vstretching: ',Vstretching\n",
    "s_rho = nc.variables['s_rho'][:]\n",
    "s_w = nc.variables['s_w'][:]\n",
    "Cs_r = nc.variables['Cs_r'][:]\n",
    "Cs_w = nc.variables['Cs_w'][:]\n",
    "N = len(s_rho)\n",
    "Np = len(s_w)\n",
    "s= 'N  = len(s_rho): {0}, Np = len(s_w) : {1}\\n'.format(len(s_rho),len(s_w))\n",
    "\n",
    "# print nc.variables['s_rho'] # get all the netCDF info\n",
    "theta_s = nc.variables['theta_s'][:]\n",
    "theta_b = nc.variables['theta_b'][:]\n",
    "hc = nc.variables['hc'][:]\n",
    "\n",
    "s = s+'hc = {0:f}, theta_s = {1:f}, theta_b = {2:f}\\n'.format(hc,theta_s,theta_b)\n",
    "print s\n",
    "with open( stats_filename, \"a\") as afile:\n",
    "    afile.write(s)\n",
    "# here is the formula for calculating the depth parameter\n",
    "#a=theta_s\n",
    "#b=theta_b\n",
    "#sr = s_rho\n",
    "#C = (1-b)*np.sinh(a*sr)/np.sinh(a) + b*[np.tanh(a*(sr+0.5))/(2*np.tanh(0.5*a)) - 0.5]"
   ]
  },
  {
   "cell_type": "code",
   "execution_count": 2,
   "metadata": {
    "collapsed": false
   },
   "outputs": [
    {
     "name": "stdout",
     "output_type": "stream",
     "text": [
      "Intial zeta: 0.0, max. deviation: 8.62799764276e-13\n",
      "\n"
     ]
    },
    {
     "data": {
      "text/plain": [
       "[<matplotlib.lines.Line2D at 0xf061b38>]"
      ]
     },
     "execution_count": 2,
     "metadata": {},
     "output_type": "execute_result"
    }
   ],
   "source": [
    "# read water depth\n",
    "h = nc.variables['h'][3,4]\n",
    "#hc = nc.variables['hc'][:]\n",
    "zeta = nc.variables['zeta'][:,3,4]\n",
    "s='Intial zeta: {0}, max. deviation: {1}\\n'.format(zeta[0],max(abs(zeta-zeta[0])))\n",
    "print s\n",
    "with open( stats_filename, \"a\") as afile:\n",
    "    afile.write(s)\n",
    "plot(zeta)"
   ]
  },
  {
   "cell_type": "code",
   "execution_count": 10,
   "metadata": {
    "collapsed": false
   },
   "outputs": [
    {
     "name": "stdout",
     "output_type": "stream",
     "text": [
      "nt, nz, nzw: 783, 50, 51\n",
      "Final time: 782.0 hrs.\n",
      "\n",
      "shape(dz2d) =  (783L, 50L)\n"
     ]
    }
   ],
   "source": [
    "# use Rob Hetland's depths.py functions\n",
    "zw = dp.get_zw(Vtransform=Vtransform, Vstretching=Vstretching, N=N+1, \\\n",
    "    theta_s=theta_s, theta_b=theta_b, h=h, hc=hc, zeta=0, Hscale=3)\n",
    "z = dp.get_zrho(Vtransform=Vtransform, Vstretching=Vstretching, N=N, \\\n",
    "    theta_s=theta_s, theta_b=theta_b, h=h, hc=hc, zeta=0, Hscale=3)\n",
    "\n",
    "time = nc.variables['ocean_time'][:]\n",
    "nt = len(time)\n",
    "nz = len(z)\n",
    "nzw = len(zw)\n",
    "dz = diff(zw)\n",
    "s = \"nt, nz, nzw: {0}, {1}, {2}\\n\".format(nt,nz,nzw)\n",
    "s = s+\"Final time: {0} hrs.\\n\".format(time[-1]/3600.)\n",
    "print s\n",
    "with open( stats_filename, \"a\") as afile:\n",
    "    afile.write(s)\n",
    "\n",
    "dz2d = tile(dz,(nt,1))\n",
    "print 'shape(dz2d) = ',shape( dz2d )\n",
    "#print zw\n",
    "#print dz"
   ]
  },
  {
   "cell_type": "code",
   "execution_count": 13,
   "metadata": {
    "collapsed": false
   },
   "outputs": [
    {
     "name": "stdout",
     "output_type": "stream",
     "text": [
      "[ 0.07085   0.096443  0.131282  0.178706  0.243261  0.331135  0.450752\n",
      "  0.613579  0.835225  1.136937  1.547638  2.106698  2.86771   3.903626\n",
      "  5.31375 ]\n",
      "[   20.       27.225    37.059    50.446    68.669    93.475   127.241\n",
      "   173.205   235.773   320.942   436.877   594.692   809.516  1101.941\n",
      "  1500.   ]\n",
      "[ 1350.        1263.753867  1200.395104  1153.850028  1119.656746\n",
      "  1094.537428  1076.084092  1062.527767  1052.568922  1045.252882\n",
      "  1039.87832   1035.93002   1033.029491  1030.898683  1029.333333]\n"
     ]
    }
   ],
   "source": [
    "# read sediment classes\n",
    "fdiam = 1e6*nc.variables['Sd50'][:]\n",
    "ws = 1e3*nc.variables['Wsed'][:]\n",
    "rhos = nc.variables['Srho'][:]\n",
    "print(ws)\n",
    "print(fdiam)\n",
    "print(rhos)"
   ]
  },
  {
   "cell_type": "code",
   "execution_count": 14,
   "metadata": {
    "collapsed": false
   },
   "outputs": [
    {
     "name": "stdout",
     "output_type": "stream",
     "text": [
      "Shape of fdiam, ws: (15L,), (15L,)Using ncs = 15\n",
      "Shape(mud) = (783L, 50L, 15L)\n",
      "Intial mass: 12.0 kg/m2. Change: -0.0000\n",
      "Max. abs. change in mud inventory: 4.74457753086e-08\n",
      "\n",
      "D:/crs/proj/flocs/floc_proc/case_44mass_change.png\n"
     ]
    }
   ],
   "source": [
    "# check mass conservation of suspended NCS classes only\n",
    "# (last class in these runs is sand)\n",
    "ncs = 15\n",
    "s = \"Shape of fdiam, ws: {0}, {1}\".format(shape(fdiam),shape(ws))\n",
    "s = s+ \"Using ncs = {0}\".format(ncs)\n",
    "print s\n",
    "with open( stats_filename, \"a\") as afile:\n",
    "    afile.write(s)\n",
    "    \n",
    "mud = zeros((nt,nz,ncs))\n",
    "for i in range(0,ncs) :\n",
    "    v = 'mud[:,:,'+str(i)+'] = '\n",
    "    m = 'mud_'+ '%(i)02d' % {\"i\":i+1}  # use formatting to get mud_01\n",
    "    c =  v+r\"nc.variables['\" +m+ r\"'][:,:,3,4]\"\n",
    "    #print c                          # c is the command that will be executed\n",
    "    exec(c)\n",
    "    \n",
    "s = 'Shape(mud) = {0}'.format(shape(mud))\n",
    "\n",
    "mmud = sum(mud,2)*dz2d          \n",
    "initial_mass = sum(mmud[0,:])\n",
    "final_mass = sum(mmud[nt-1,:])\n",
    "summud_ts = sum(mmud,axis=1)\n",
    "max_mud_change = max( abs( summud_ts[:]-summud_ts[0] ))\n",
    "\n",
    "s=s+\"\\nIntial mass: {0} kg/m2. Change: {1:7.4f}\".format(initial_mass,final_mass-initial_mass)\n",
    "s=s+'\\nMax. abs. change in mud inventory: {0}\\n'.format(max_mud_change )\n",
    "print s\n",
    "with open( stats_filename, \"a\") as afile:\n",
    "    afile.write(s)\n",
    "    \n",
    "if( max_mud_change > 1e-8 ):\n",
    "    # Make a plot if mass is not conserved5\n",
    "    fig, ax = plt.subplots()\n",
    "    ax.plot(time/3600., sum(mmud,1), 'b', label='Suspended')\n",
    "    ax.plot(time/3600., sum(mmud,1), 'k--', label='Total' )\n",
    "    legend = ax.legend(loc = 'upper right', shadow=True)\n",
    "    plt.ylabel('Mass (kg/m2)')\n",
    "    plt.xlabel('Time (hrs)')\n",
    "    fig_name = proj_dir+case_dir+'case_'+run_name+'mass_change.png'\n",
    "    print fig_name\n",
    "    plt.savefig(fig_name)"
   ]
  },
  {
   "cell_type": "code",
   "execution_count": 15,
   "metadata": {
    "collapsed": false
   },
   "outputs": [
    {
     "name": "stdout",
     "output_type": "stream",
     "text": [
      "shape(zw): (51L,)\n",
      "(shape(tw2d): (783L, 51L)\n",
      "(shape(zw2d): (783L, 51L)\n",
      "\n",
      "shape(ws_av)  (783L, 50L)\n",
      "shape(mconc)  (783L, 50L)\n",
      "D:/crs/proj/flocs/floc_proc/case_44conc_diam_ws.png\n"
     ]
    }
   ],
   "source": [
    "# make 2D arrays of time and depths\n",
    "t2d = tile(time,(nz,1)).T #2D time(nt, nz)\n",
    "tw2d = tile(time,(nz+1,1)).T #2D time(nt, nz)\n",
    "s='shape(zw): {0}\\n'.format(shape(zw))\n",
    "z2d  = tile(h+z.T,(nt,1))\n",
    "zw2d = tile(h+zw.T,(nt,1))\n",
    "\n",
    "s=s+'(shape(tw2d): {0}\\n'.format(shape(tw2d))\n",
    "s=s+'(shape(zw2d): {0}\\n'.format(shape(zw2d))\n",
    "print s\n",
    "with open( stats_filename, \"a\") as afile:\n",
    "    afile.write(s)\n",
    "\n",
    "# calculate size- and settling-velocity weighted floc dists\n",
    "#print shape(ws)\n",
    "eps = 1.e-8\n",
    "ws_av = sum((mud+eps)*ws[0:ncs],2)/sum((mud+eps),2)\n",
    "fdiam_av = sum((mud+eps)*fdiam[0:ncs],2)/sum((mud+eps),2)\n",
    "\n",
    "print \"shape(ws_av) \",shape(ws_av)\n",
    "mconc = sum(mud,2);\n",
    "print \"shape(mconc) \",shape(mconc)\n",
    "cmap = plt.get_cmap('PiYG')\n",
    "cmap = plt.get_cmap('RdGy')\n",
    "\n",
    "fig = plt.figure(figsize=(12,10))\n",
    "ax=fig.add_subplot(3,1,1)\n",
    "cmap = plt.get_cmap('Reds')\n",
    "cmap = plt.get_cmap('RdGy')\n",
    "cmap = plt.get_cmap('binary')\n",
    "pcolormesh(t2d/3600.,z2d,sum(mud,2),cmap=cmap,vmin=0.,vmax=0.2)\n",
    "plt.title(run_name+' Concentration (kg/m2)')\n",
    "plt.colorbar()\n",
    "\n",
    "ax=fig.add_subplot(3,1,2)\n",
    "cmap = plt.get_cmap('Paired')\n",
    "cmap = plt.get_cmap('RdGy')\n",
    "cmap = plt.get_cmap('PuOr')\n",
    "cmap = plt.get_cmap('gist_earth')\n",
    "pcolormesh(t2d/3600.,z2d,fdiam_av,cmap=cmap,vmin=20,vmax=850)\n",
    "plt.ylabel('Elevation (m)')\n",
    "plt.title('Average diameter (mm)')\n",
    "plt.colorbar()\n",
    "\n",
    "ax=fig.add_subplot(3,1,3)\n",
    "cmap = plt.get_cmap('RdGy')\n",
    "pcolormesh(t2d/3600.,z2d,ws_av,cmap=cmap,vmin=0.1,vmax=1)\n",
    "plt.colorbar()\n",
    "plt.xlabel('Time (hrs)')\n",
    "plt.title('Average settling velocity (mm/s)')\n",
    "fig_name = proj_dir+case_dir+'case_'+run_name+'conc_diam_ws.png'\n",
    "print fig_name\n",
    "plt.savefig(fig_name)"
   ]
  },
  {
   "cell_type": "code",
   "execution_count": 16,
   "metadata": {
    "collapsed": false
   },
   "outputs": [
    {
     "name": "stdout",
     "output_type": "stream",
     "text": [
      "\n",
      "i   z    diam    ws     conc\n",
      "50 11.9   37.1  0.131 0.8538\n",
      "25  6.3   37.1  0.131 0.9984\n",
      " 1  0.3   37.1  0.131 1.0895\n",
      " 0  0.1   37.1  0.131 1.1183\n"
     ]
    }
   ],
   "source": [
    "# report final values\n",
    "s= \"\\n\"+\"i   z    diam    ws     conc\"\n",
    "s=s +\"\\n\"+\"{0:2d} {1:4.1f} {2:6.1f} {3:6.3f} {4:6.4f}\"\\\n",
    ".format(nz,   z2d[-1,nz-1],  fdiam_av[-1,nz-1], ws_av[-1,nz-1],sum(mud[nt-1,nz-1,:],0 ))\n",
    "s=s+\"\\n\"+\"{0:2d} {1:4.1f} {2:6.1f} {3:6.3f} {4:6.4f}\"\\\n",
    ".format(nz/2, z2d[-1,nz/2], fdiam_av[-1,nz/2], ws_av[-1,nz/2],sum(mud[nt-1,nz/2,:],0 ))\n",
    "s=s+\"\\n\"+\"{0:2d} {1:4.1f} {2:6.1f} {3:6.3f} {4:6.4f}\"\\\n",
    ".format(1,    z2d[-1,1],    fdiam_av[-1,1], ws_av[-1,1],sum(mud[nt-1,1,:],0 ))\n",
    "s=s+\"\\n\"+\"{0:2d} {1:4.1f} {2:6.1f} {3:6.3f} {4:6.4f}\"\\\n",
    ".format(0,    z2d[-1,0],    fdiam_av[-1,0], ws_av[-1,0],sum(mud[nt-1,0,:],0 ))\n",
    "print s\n",
    "with open( stats_filename, \"a\") as afile:\n",
    "    afile.write(s)"
   ]
  },
  {
   "cell_type": "code",
   "execution_count": 17,
   "metadata": {
    "collapsed": false
   },
   "outputs": [
    {
     "name": "stdout",
     "output_type": "stream",
     "text": [
      "D:/crs/proj/flocs/floc_proc/44_summary.txt\n",
      "URL: http://geoport.whoi.edu/thredds/dodsC/clay/usgs/users/aretxabaleta/MVCO/ocean_his_44.nc\n",
      "N  = len(s_rho): 50, Np = len(s_w) : 51\n",
      "hc = 0.000000, theta_s = 1.000000, theta_b = 0.800000\n",
      "Intial zeta: 0.0, max. deviation: 8.62799764276e-13\n",
      "nt, nz, nzw: 783, 50, 51\n",
      "Final time: 782.0 hrs.\n",
      "Shape of fdiam, ws: (15L,), (15L,)Using ncs = 15Shape(mud) = (783L, 50L, 15L)\n",
      "Intial mass: 12.0 kg/m2. Change: -0.0000\n",
      "Max. abs. change in mud inventory: 4.74457753086e-08\n",
      "shape(zw): (51L,)\n",
      "(shape(tw2d): (783L, 51L)\n",
      "(shape(zw2d): (783L, 51L)\n",
      "\n",
      "i   z    diam    ws     conc\n",
      "50 11.9   37.1  0.131 0.8538\n",
      "25  6.3   37.1  0.131 0.9984\n",
      " 1  0.3   37.1  0.131 1.0895\n",
      " 0  0.1   37.1  0.131 1.1183\n"
     ]
    }
   ],
   "source": [
    "# Replay the contents of the summary txt file\n",
    "with open( stats_filename, \"r\") as afile:\n",
    "    s=afile.read()\n",
    "print s"
   ]
  },
  {
   "cell_type": "code",
   "execution_count": 18,
   "metadata": {
    "collapsed": false
   },
   "outputs": [
    {
     "name": "stdout",
     "output_type": "stream",
     "text": [
      "  20\n",
      "  27\n",
      "  37\n",
      "  50\n",
      "  68\n",
      "  93\n",
      " 127\n",
      " 173\n",
      " 235\n",
      " 320\n",
      " 436\n",
      " 594\n",
      " 809\n",
      "1101\n",
      "1500\n",
      "D:/crs/proj/flocs/floc_proc/case_44.png\n"
     ]
    }
   ],
   "source": [
    "# plot time series of floc classes at various depths\n",
    "fig = plt.figure(figsize=(6,10))\n",
    "ax=fig.add_subplot(4,1,1)\n",
    "j=nz-1\n",
    "lb = '%(s)5.1f' % {\"s\":h+z[j]}\n",
    "for i in range(0,ncs) :\n",
    "    m = mud[:,j,i]\n",
    "    plt.plot(time/3600,m,label=lb)\n",
    "ax.set_title(run_name+' '+lb+' mab')\n",
    "    \n",
    "ax=fig.add_subplot(4,1,2)\n",
    "j=nz/2\n",
    "lb = '%(s)5.1f' % {\"s\":h+z[j]}\n",
    "for i in range(0,ncs) :\n",
    "    m = mud[:,j,i]\n",
    "    plt.plot(time/3600,m)\n",
    "ax.set_title(lb+' mab')\n",
    "    \n",
    "ax=fig.add_subplot(4,1,3)\n",
    "j=1\n",
    "lb = '%(s)5.1f' % {\"s\":h+z[j]}\n",
    "for i in range(0,ncs) :\n",
    "    m = mud[:,j,i]\n",
    "    plt.plot(time/3600,m)\n",
    "ax.set_title(lb+' mab')    \n",
    "    \n",
    "ax=fig.add_subplot(4,1,4)\n",
    "for i in range(0,ncs) :\n",
    "    m = sum(mud[:,:,i],1)\n",
    "    lb = '%(s)4d' % {\"s\":fdiam[i]}\n",
    "    print lb\n",
    "    plt.plot(time/3600,m,label=lb)\n",
    "plt.legend()\n",
    "ax.set_title('Total')\n",
    "fig_name = proj_dir+case_dir+'case_'+run_name+'.png'\n",
    "print fig_name\n",
    "plt.savefig(fig_name)\n",
    "    "
   ]
  },
  {
   "cell_type": "code",
   "execution_count": 19,
   "metadata": {
    "collapsed": false
   },
   "outputs": [
    {
     "name": "stdout",
     "output_type": "stream",
     "text": [
      "D:/crs/proj/flocs/floc_proc/case_44final_profiles.png\n"
     ]
    }
   ],
   "source": [
    "# Final profiles\n",
    "#print shape(z)\n",
    "#print shape(mud[nt-1,:,0])\n",
    "eps = 1e-6\n",
    "fig = plt.figure(figsize=(6,6))\n",
    "ax=fig.add_subplot(1,1,1)\n",
    "# plot individual size classes\n",
    "for i in range(0,ncs) :\n",
    "    lb = '%(s)4d' % {\"s\":fdiam[i]}\n",
    "    #print lb\n",
    "    plt.semilogx(mud[nt-1,:,i]+eps,h+z,label=lb)\n",
    "\n",
    "plt.semilogx( sum(mud[nt-1,:,:],1),h+z,'k--',label='Total')\n",
    "plt.legend(loc='upper left')\n",
    "ax.set_title(run_name+' Final Profiles')\n",
    "plt.ylabel('Elevation (m)')\n",
    "plt.xlabel('Concentration (kg/m3)')\n",
    "fig_name = proj_dir+case_dir+'case_'+run_name+'final_profiles.png'\n",
    "print fig_name\n",
    "plt.savefig(fig_name)"
   ]
  },
  {
   "cell_type": "code",
   "execution_count": 20,
   "metadata": {
    "collapsed": false
   },
   "outputs": [
    {
     "ename": "KeyError",
     "evalue": "'tke'",
     "output_type": "error",
     "traceback": [
      "\u001b[1;31m---------------------------------------------------------------------------\u001b[0m",
      "\u001b[1;31mKeyError\u001b[0m                                  Traceback (most recent call last)",
      "\u001b[1;32m<ipython-input-20-291edf9bb1ff>\u001b[0m in \u001b[0;36m<module>\u001b[1;34m()\u001b[0m\n\u001b[0;32m      1\u001b[0m \u001b[1;31m# Calculate and plot turbulence and mixing info\u001b[0m\u001b[1;33m\u001b[0m\u001b[1;33m\u001b[0m\u001b[0m\n\u001b[1;32m----> 2\u001b[1;33m \u001b[0mtke\u001b[0m \u001b[1;33m=\u001b[0m \u001b[0mnc\u001b[0m\u001b[1;33m.\u001b[0m\u001b[0mvariables\u001b[0m\u001b[1;33m[\u001b[0m\u001b[1;34m'tke'\u001b[0m\u001b[1;33m]\u001b[0m\u001b[1;33m[\u001b[0m\u001b[1;33m:\u001b[0m\u001b[1;33m,\u001b[0m\u001b[1;33m:\u001b[0m\u001b[1;33m,\u001b[0m\u001b[1;36m3\u001b[0m\u001b[1;33m,\u001b[0m\u001b[1;36m4\u001b[0m\u001b[1;33m]\u001b[0m\u001b[1;33m\u001b[0m\u001b[0m\n\u001b[0m\u001b[0;32m      3\u001b[0m \u001b[0mgls\u001b[0m \u001b[1;33m=\u001b[0m \u001b[0mnc\u001b[0m\u001b[1;33m.\u001b[0m\u001b[0mvariables\u001b[0m\u001b[1;33m[\u001b[0m\u001b[1;34m'gls'\u001b[0m\u001b[1;33m]\u001b[0m\u001b[1;33m[\u001b[0m\u001b[1;33m:\u001b[0m\u001b[1;33m,\u001b[0m\u001b[1;33m:\u001b[0m\u001b[1;33m,\u001b[0m\u001b[1;36m3\u001b[0m\u001b[1;33m,\u001b[0m\u001b[1;36m4\u001b[0m\u001b[1;33m]\u001b[0m\u001b[1;33m\u001b[0m\u001b[0m\n\u001b[0;32m      4\u001b[0m \u001b[0makv_bak\u001b[0m \u001b[1;33m=\u001b[0m \u001b[0mnc\u001b[0m\u001b[1;33m.\u001b[0m\u001b[0mvariables\u001b[0m\u001b[1;33m[\u001b[0m\u001b[1;34m'Akv_bak'\u001b[0m\u001b[1;33m]\u001b[0m\u001b[1;33m[\u001b[0m\u001b[1;33m:\u001b[0m\u001b[1;33m]\u001b[0m\u001b[1;33m\u001b[0m\u001b[0m\n\u001b[0;32m      5\u001b[0m \u001b[0makt_bak\u001b[0m \u001b[1;33m=\u001b[0m \u001b[0mnc\u001b[0m\u001b[1;33m.\u001b[0m\u001b[0mvariables\u001b[0m\u001b[1;33m[\u001b[0m\u001b[1;34m'Akt_bak'\u001b[0m\u001b[1;33m]\u001b[0m\u001b[1;33m[\u001b[0m\u001b[1;33m:\u001b[0m\u001b[1;33m]\u001b[0m\u001b[1;33m\u001b[0m\u001b[0m\n",
      "\u001b[1;31mKeyError\u001b[0m: 'tke'"
     ]
    }
   ],
   "source": [
    "# Calculate and plot turbulence and mixing info\n",
    "tke = nc.variables['tke'][:,:,3,4]\n",
    "gls = nc.variables['gls'][:,:,3,4]\n",
    "akv_bak = nc.variables['Akv_bak'][:]\n",
    "akt_bak = nc.variables['Akt_bak'][:]\n",
    "akv = nc.variables['AKv'][:,:,3,4]\n",
    "nueau =      1.5E-6\n",
    "gls_p =     -1.000  #gls_p           GLS stability exponent.\n",
    "gls_m =      0.500  #gls_m           GLS turbulent kinetic energy exponent.\n",
    "gls_n =     -1.000  #gls_n           GLS turbulent length scale exponent.\n",
    "gls_cmu0 =   5.4770E-01 #            GLS stability coefficient.\n",
    " \n",
    "exp1 = 3.0+gls_p/gls_n\n",
    "exp2 = 1.5+gls_m/gls_n\n",
    "exp3 = -1.0/gls_n\n",
    "diss = gls_cmu0**exp1*tke**exp2*gls**exp3\n",
    "Gval=sqrt(diss/nueau)\n",
    "print 'Background akv_bak = ',akv_bak\n",
    "\n",
    "#tidx = -1       # just get the final time step, for now.\n",
    "# read a 3D temperature field at specified time step\n",
    "#temp = nc.variables['temp'][tidx, :, :, :]\n",
    "u = nc.variables['u'][:, :, 3, 4]\n",
    "#v = nc.variables['v'][tidx, :, :, :]\n",
    "\n",
    "# read a 2D water level (height of ocean surface) at all time steps\n",
    "#eta = nc.variables['zeta'][:, 3, 4]\n",
    "# read bottom roughness zoN\n",
    "zob = nc.variables['Zob'][:]\n",
    "print 'Background Zob = ',zob\n",
    "zoa = nc.variables['Zo_app'][:, 3, 4]\n",
    "if max(zoa) <= 1.e-6 :\n",
    "    print 'Max zoa = ',max(zoa)\n",
    "    print 'Replacing with ',zob\n",
    "    zoa = zob*np.ones_like(zoa)\n",
    "bustr = nc.variables['bustr'][:, 3, 4]\n",
    "try:\n",
    "    bustrcwmax = nc.variables['bustrcwmax'][:, 3, 4]\n",
    "except :\n",
    "    print 'bustrcwmax not available, replacing with bustr'\n",
    "    bustrcwmax = bustr\n",
    "\n",
    "#bvstr = nc.variables['bvstr'][:, 3, 4]\n",
    "ubar = nc.variables['ubar'][:, 3, 4]\n",
    "#vbar = nc.variables['vbar'][:, 3, 4]\n",
    "\n",
    "\n",
    "fig = plt.figure(figsize=(12,10))\n",
    "ax=fig.add_subplot(4,1,1)\n",
    "pcolormesh(tw2d/3600.,zw2d,(akv+akv_bak))\n",
    "plt.title(run_name+' Eddy viscosity (m2/s)')\n",
    "plt.colorbar()\n",
    "\n",
    "ax=fig.add_subplot(4,1,2)\n",
    "#pcolormesh(tw2d/3600.,zw2d,log10(diss+1.e-8))\n",
    "#plt.colorbar()\n",
    "#plt.title('log10[ Dissipation rate (m2/s3) ]')\n",
    "pcolormesh(tw2d/3600.,zw2d,Gval,vmin=0.,vmax=5.)\n",
    "plt.colorbar()\n",
    "plt.title('Turbulence Shear Rate G (m/s)')\n",
    "\n",
    "ax=fig.add_subplot(4,1,3)\n",
    "pcolormesh(tw2d/3600.,zw2d,(tke))\n",
    "plt.title('Turbulence kinetic energy (m2/s2)')\n",
    "plt.colorbar()\n",
    "\n",
    "ax=fig.add_subplot(4,1,4)\n",
    "cmap = plt.get_cmap('Reds')\n",
    "cmap = plt.get_cmap('RdBu')\n",
    "#pcolormesh(t2d/3600.,z2d,abs(u),cmap=cmap)\n",
    "#plt.colorbar()\n",
    "V = arange(-.5,.5,0.05)\n",
    "plt.contourf(t2d/3600.,z2d,u,V,cmap=cmap,vmin=-.20,vmax=.20)\n",
    "plt.colorbar()\n",
    "plt.xlabel('Time (hrs)')\n",
    "plt.title('Velocity (m/s)')\n",
    "fig_name = proj_dir+case_dir+'case_'+run_name+'mixing.png'\n",
    "print fig_name\n",
    "plt.savefig(fig_name)"
   ]
  },
  {
   "cell_type": "code",
   "execution_count": 21,
   "metadata": {
    "collapsed": false
   },
   "outputs": [
    {
     "ename": "NameError",
     "evalue": "name 'ubar' is not defined",
     "output_type": "error",
     "traceback": [
      "\u001b[1;31m---------------------------------------------------------------------------\u001b[0m",
      "\u001b[1;31mNameError\u001b[0m                                 Traceback (most recent call last)",
      "\u001b[1;32m<ipython-input-21-d8a7e20243ff>\u001b[0m in \u001b[0;36m<module>\u001b[1;34m()\u001b[0m\n\u001b[0;32m      1\u001b[0m \u001b[0mfig\u001b[0m \u001b[1;33m=\u001b[0m \u001b[0mplt\u001b[0m\u001b[1;33m.\u001b[0m\u001b[0mfigure\u001b[0m\u001b[1;33m(\u001b[0m\u001b[0mfigsize\u001b[0m\u001b[1;33m=\u001b[0m\u001b[1;33m(\u001b[0m\u001b[1;36m12\u001b[0m\u001b[1;33m,\u001b[0m\u001b[1;36m8\u001b[0m\u001b[1;33m)\u001b[0m\u001b[1;33m)\u001b[0m\u001b[1;33m\u001b[0m\u001b[0m\n\u001b[0;32m      2\u001b[0m \u001b[0max\u001b[0m\u001b[1;33m=\u001b[0m\u001b[0mfig\u001b[0m\u001b[1;33m.\u001b[0m\u001b[0madd_subplot\u001b[0m\u001b[1;33m(\u001b[0m\u001b[1;36m3\u001b[0m\u001b[1;33m,\u001b[0m\u001b[1;36m1\u001b[0m\u001b[1;33m,\u001b[0m\u001b[1;36m1\u001b[0m\u001b[1;33m)\u001b[0m\u001b[1;33m\u001b[0m\u001b[0m\n\u001b[1;32m----> 3\u001b[1;33m \u001b[0mplot\u001b[0m\u001b[1;33m(\u001b[0m\u001b[0mtime\u001b[0m\u001b[1;33m/\u001b[0m\u001b[1;36m3600.\u001b[0m\u001b[1;33m,\u001b[0m\u001b[0mubar\u001b[0m\u001b[1;33m)\u001b[0m\u001b[1;33m\u001b[0m\u001b[0m\n\u001b[0m\u001b[0;32m      4\u001b[0m \u001b[0mplt\u001b[0m\u001b[1;33m.\u001b[0m\u001b[0mtitle\u001b[0m\u001b[1;33m(\u001b[0m\u001b[1;34m'Depth-Averaged Velocity'\u001b[0m\u001b[1;33m)\u001b[0m\u001b[1;33m\u001b[0m\u001b[0m\n\u001b[0;32m      5\u001b[0m \u001b[0mplt\u001b[0m\u001b[1;33m.\u001b[0m\u001b[0mylabel\u001b[0m\u001b[1;33m(\u001b[0m\u001b[1;34m'(m/s)'\u001b[0m\u001b[1;33m)\u001b[0m\u001b[1;33m\u001b[0m\u001b[0m\n",
      "\u001b[1;31mNameError\u001b[0m: name 'ubar' is not defined"
     ]
    }
   ],
   "source": [
    "fig = plt.figure(figsize=(12,8))\n",
    "ax=fig.add_subplot(3,1,1)\n",
    "plot(time/3600.,ubar)\n",
    "plt.title('Depth-Averaged Velocity')\n",
    "plt.ylabel('(m/s)')\n",
    "ax=fig.add_subplot(3,1,2)\n",
    "plot(time/3600.,bustr)\n",
    "plot(time/3600.,bustrcwmax)\n",
    "plt.title('Shear Stress')\n",
    "plt.ylabel('(Pa)')\n",
    "ax=fig.add_subplot(3,1,3)\n",
    "plot(time/3600.,log10(zoa))\n",
    "plt.title('Apparent Roughness')\n",
    "plt.ylabel('(m)')\n",
    "plt.xlabel('Time (hrs)')\n",
    "\n",
    "fig_name = proj_dir+case_dir+'case_'+run_name+'stress.png'\n",
    "print fig_name\n",
    "plt.savefig(fig_name)"
   ]
  },
  {
   "cell_type": "raw",
   "metadata": {},
   "source": [
    "# how long until equilibrium?\n",
    "eps = 1e-8\n",
    "uz = u[:,nz-1]\n",
    "dxdt=concatenate([array([0.]), diff(uz)])\n",
    "dxdtN  = abs(dxdt/(uz+eps))\n",
    "idx = 1+numpy.where(dxdtN[1:]<=0.005)[0][0]\n",
    "print 'u[:,nz-1]',time[idx]/3600\n",
    "uz = u[:,0]\n",
    "dxdt=concatenate([array([0.]), diff(uz)])\n",
    "dxdtN  = abs(dxdt/(uz+eps))\n",
    "idx = 1+numpy.where(dxdtN[1:]<=0.005)[0][0]\n",
    "print 'u[:,0]',time[idx]/3600\n",
    "\n",
    "dxdt=concatenate([array([0.]), diff(ubar)])\n",
    "dxdtN  = abs(dxdt/(ubar+eps))\n",
    "idx = 1+numpy.where(dxdtN[1:]<=0.005)[0][0]\n",
    "print 'ubar',time[idx]/3600\n",
    "\n",
    "dxdt=concatenate([array([0.]), diff(bustr)])\n",
    "dxdtN  = abs(dxdt/(bustr+eps))\n",
    "idx = 1+numpy.where(dxdtN[1:]<=0.005)[0][0]\n",
    "print 'bustr',time[idx]/3600\n",
    "\n",
    "for i in range(0,ncs) :\n",
    "    for j in [0,nz//2,nz-1]:\n",
    "       x = mud[:,j,i];\n",
    "       dxdt=concatenate([array([0.]), diff(x)])\n",
    "       dxdtN  = abs(dxdt/(x+eps))\n",
    "       idx = 1+numpy.where(dxdtN[1:]<=0.005)[0][0]\n",
    "       print \"mud[:,{0},{1}]:  {2:5.2f}\".format(j,i,time[idx]/3600)\n",
    "    "
   ]
  },
  {
   "cell_type": "code",
   "execution_count": null,
   "metadata": {
    "collapsed": false
   },
   "outputs": [],
   "source": [
    "# Calculate G on rho \n",
    "Gc = 0.5*(Gval[:,0:50]+Gval[:,1:51])\n",
    "s = \"shape(Gval), shape(Gc): {0}, {1}\\n\".format(shape(Gval),shape(Gc))\n",
    "nts = 10\n",
    "s = s+\"Averaging last {0} time steps.\\n\".format(nts)\n",
    "print s\n",
    "\n",
    "ws_av_mn = mean(ws_av[-1-10:-1,:],0)\n",
    "ws_av_sd = std(ws_av[-1-10:-1,:],0)\n",
    "fdiam_av_mn = mean(fdiam_av[-1-10:-1,:],0)\n",
    "fdiam_av_sd = std(fdiam_av[-1-10:-1,:],0)\n",
    "tconc = sum(mud,2)\n",
    "tconc_mn = mean(tconc[-1-10:-1,:],0)\n",
    "tconc_sd = std(tconc[-1-10:-1,:],0)\n",
    "Gc_mn = mean(Gc[-1-10:-1,:],0)\n",
    "Gc_sd = std(Gc[-1-10:-1,:],0)\n",
    "#fdiam_av = sum((mud+eps)*fdiam[0:ncs],2)/sum((mud+eps),2)\n",
    "#Gc_av = \n",
    "print \"shape(ws_av_mn):\",shape(ws_av_mn)\n",
    "print \"shape(tconc): \",shape(tconc)\n",
    "print \"shape(tconc_mn): \",shape(tconc_mn)"
   ]
  },
  {
   "cell_type": "code",
   "execution_count": null,
   "metadata": {
    "collapsed": false
   },
   "outputs": [],
   "source": [
    "# report final values\n",
    "s= \"\\nMeans for last {0} timesteps.\\ni   z    diam    ws     conc   Gc\".format(nts)\n",
    "s=s +\"\\n\"+\"{0:2d} {1:4.1f} {2:6.1f} {3:6.3f} {4:6.4f} {5:8.3}\"\\\n",
    ".format(nz,   z2d[-1,nz-1],  fdiam_av_mn[nz-1], ws_av_mn[nz-1], tconc_mn[nz-1], Gc_mn[nz-1])\n",
    "s=s+\"\\n\"+\"{0:2d} {1:4.1f} {2:6.1f} {3:6.3f} {4:6.4f} {5:8.3}\"\\\n",
    ".format(nz/2, z2d[-1,nz/2], fdiam_av_mn[nz/2], ws_av_mn[nz/2], tconc_mn[nz/2], Gc_mn[nz/2])\n",
    "s=s+\"\\n\"+\"{0:2d} {1:4.1f} {2:6.1f} {3:6.3f} {4:6.4f} {5:8.3}\"\\\n",
    ".format(1,    z2d[-1,1],    fdiam_av_mn[1], ws_av_mn[1], tconc_mn[1], Gc_mn[1])\n",
    "s=s+\"\\n\"+\"{0:2d} {1:4.1f} {2:6.1f} {3:6.3f} {4:6.4f} {5:8.3}\"\\\n",
    ".format(0,    z2d[-1,0],    fdiam_av_mn[0], ws_av_mn[0], tconc_mn[0], Gc_mn[0])\n",
    "\n",
    "s=s+\"\\nStandard Deviations:\\ni   z    diam    ws     conc   Gc\"\n",
    "s=s +\"\\n\"+\"{0:2d} {1:4.1f} {2:6.1f} {3:6.3f} {4:6.4f} {5:8.3}\"\\\n",
    ".format(nz,   z2d[-1,nz-1],  fdiam_av_sd[nz-1], ws_av_sd[nz-1], tconc_sd[nz-1], Gc_mn[nz-1])\n",
    "s=s+\"\\n\"+\"{0:2d} {1:4.1f} {2:6.1f} {3:6.3f} {4:6.4f} {5:8.3}\"\\\n",
    ".format(nz/2, z2d[-1,nz/2], fdiam_av_sd[nz/2], ws_av_sd[nz/2], tconc_sd[nz/2], Gc_mn[nz/2])\n",
    "s=s+\"\\n\"+\"{0:2d} {1:4.1f} {2:6.1f} {3:6.3f} {4:6.4f} {5:8.3}\"\\\n",
    ".format(1,    z2d[-1,1],    fdiam_av_sd[1], ws_av_sd[1], tconc_sd[1], Gc_sd[1])\n",
    "s=s+\"\\n\"+\"{0:2d} {1:4.1f} {2:6.1f} {3:6.3f} {4:6.4f} {5:8.3}\"\\\n",
    ".format(0,    z2d[-1,0],    fdiam_av_sd[0], ws_av_sd[0], tconc_sd[0], Gc_sd[0])\n",
    "print s\n",
    "with open( stats_filename, \"a\") as afile:\n",
    "    afile.write(s)"
   ]
  },
  {
   "cell_type": "code",
   "execution_count": null,
   "metadata": {
    "collapsed": false
   },
   "outputs": [],
   "source": [
    "nf = 2.\n",
    "m = .2\n",
    "q = (nf-1.)/(2.*m)\n",
    "s= \"nf, m, q: {0}, {1}, {2}\".format(nf, m, q)\n",
    "fig = plt.figure(figsize=(6,8))\n",
    "plot(tconc_mn/Gc_mn**q,(1e-3*fdiam_av_mn)**(2*q),'.')\n",
    "plt.title('Winterwerp plot:'+ s)\n",
    "plt.ylabel('Diameter ^(2q)')\n",
    "plt.xlabel(r'Conc/G^q')\n",
    "fig_name = proj_dir+case_dir+'case_'+run_name+'winterwerp.png'\n",
    "print fig_name\n",
    "plt.savefig(fig_name)"
   ]
  },
  {
   "cell_type": "code",
   "execution_count": null,
   "metadata": {
    "collapsed": false
   },
   "outputs": [],
   "source": [
    "fig = plt.figure(figsize=(6,6))\n",
    "#ax=fig.add_subplot(1,2,1)\n",
    "plt.title('Equilibrium Floc Size')\n",
    "plt.ylabel('Average Diameter (um)')\n",
    "plt.xlabel(r'Turbulence Shear Rate G (m/s)')\n",
    "plot(Gc_mn,fdiam_av_mn,'.')\n",
    "plt.xlim([0, 6])\n",
    "fig_name = proj_dir+case_dir+'case_'+run_name+'diam_v_G.png'\n",
    "print fig_name\n",
    "plt.savefig(fig_name)\n",
    "\n",
    "savetxt(proj_dir+case_dir+run_name+'gc.txt',Gc_mn)\n",
    "savetxt(proj_dir+case_dir+run_name+'diam.txt',fdiam_av_mn)\n",
    "savetxt(proj_dir+case_dir+run_name+'ws.txt',ws_av_mn)\n",
    "savetxt(proj_dir+case_dir+run_name+'mconc.txt',tconc_mn)"
   ]
  },
  {
   "cell_type": "code",
   "execution_count": null,
   "metadata": {
    "collapsed": false
   },
   "outputs": [],
   "source": [
    "# plot results from several runs\n",
    "# read data from GLS run, which has diffusivity for conc enabled\n",
    "flist = ['os050qg','os051qg','os052qg','os053qg','os054qg']\n",
    "i=0\n",
    "G=zeros( (len(flist),len(Gc_mn)) )\n",
    "d=zeros_like(G)\n",
    "c=zeros_like(G)\n",
    "ws=zeros_like(G)\n",
    "for run_name in flist:\n",
    "    G[i,:] =loadtxt(proj_dir+case_dir+run_name+'gc.txt')\n",
    "    d[i,:]=loadtxt(proj_dir+case_dir+run_name+'diam.txt')\n",
    "    ws[i,:]=loadtxt(proj_dir+case_dir+run_name+'ws.txt')\n",
    "    c[i,:]=loadtxt(proj_dir+case_dir+run_name+'mconc.txt')\n",
    "    i=i+1"
   ]
  },
  {
   "cell_type": "code",
   "execution_count": null,
   "metadata": {
    "collapsed": false
   },
   "outputs": [],
   "source": [
    "# plot all results\n",
    "fig = plt.figure(figsize=(6,6))\n",
    "msize=10\n",
    "#plt.title(r'Equilibrium Floc Size',fontsize=16)\n",
    "plt.ylabel(r'Average Diameter $D$ ($\\mu$m)',fontsize=14)\n",
    "plt.xlabel(r'Turbulence Shear Rate $G$ (s$^{-1}$)',fontsize=14)\n",
    "#plot(G[0,:],d[0,:],'.',markersize=10,label=\"1 kg/m^3\")\n",
    "plot(G[3,:],d[3,:],'.',ms=msize,c='SaddleBrown',label=\"5 kg/m$^3$\")\n",
    "plot(G[2,:],d[2,:],'.',ms=msize,c='Tan',label=\"2 kg/m$^3$\")\n",
    "plot(G[1,:],d[1,:],'.',ms=msize,c='DimGray',label=\"1 kg/m$^3$\")\n",
    "plot(G[4,:],d[4,:],'.',ms=msize,c='Silver',label=\"0.1 kg/m$^3$\")\n",
    "plt.legend(loc='center right',title='Concentration')\n",
    "plt.xlim([0, 6])\n",
    "plt.ylim([100,700])\n",
    "fig_name = proj_dir+case_dir+'case_'+run_name+'multiple.png'\n",
    "print fig_name\n",
    "plt.savefig(fig_name)"
   ]
  }
 ],
 "metadata": {
  "kernelspec": {
   "display_name": "Python 2",
   "language": "python",
   "name": "python2"
  },
  "language_info": {
   "codemirror_mode": {
    "name": "ipython",
    "version": 2
   },
   "file_extension": ".py",
   "mimetype": "text/x-python",
   "name": "python",
   "nbconvert_exporter": "python",
   "pygments_lexer": "ipython2",
   "version": "2.7.10"
  }
 },
 "nbformat": 4,
 "nbformat_minor": 0
}
